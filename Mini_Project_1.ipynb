{
  "cells": [
    {
      "cell_type": "markdown",
      "metadata": {
        "id": "view-in-github",
        "colab_type": "text"
      },
      "source": [
        "<a href=\"https://colab.research.google.com/github/SamKay22/Data-Science-For-Beginners/blob/main/Mini_Project_1.ipynb\" target=\"_parent\"><img src=\"https://colab.research.google.com/assets/colab-badge.svg\" alt=\"Open In Colab\"/></a>"
      ]
    },
    {
      "cell_type": "code",
      "execution_count": null,
      "metadata": {
        "colab": {
          "background_save": true,
          "base_uri": "https://localhost:8080/"
        },
        "id": "lNLgvg2X1n4o",
        "outputId": "df3fe1f0-b320-4efd-c46c-1a8b2b7cc682"
      },
      "outputs": [
        {
          "name": "stdout",
          "output_type": "stream",
          "text": [
            "Welcome to the Fun Quiz Game!\n",
            "Answer the questions by typing the letter of your choice (A, B, or C).\n",
            "Let's see how many you can get right!\n",
            "\n",
            "What is the color of the sun?\n",
            "A) Blue\n",
            "B) Yellow\n",
            "C) Green\n"
          ]
        }
      ],
      "source": [
        "def display_welcome_message():\n",
        "    print(\"Welcome to the Fun Quiz Game!\")\n",
        "    print(\"Answer the questions by typing the letter of your choice (A, B, or C).\")\n",
        "    print(\"Let's see how many you can get right!\\n\")\n",
        "\n",
        "def ask_question(question, options, correct_answer):\n",
        "    print(question)\n",
        "    for option in options:\n",
        "        print(option)\n",
        "    user_answer = input(\"Your answer (A, B, or C): \").strip().upper()\n",
        "    if user_answer == correct_answer:\n",
        "        print(\"Correct!\\n\")\n",
        "        return 1\n",
        "    else:\n",
        "        print(f\"Oops! The correct answer was {correct_answer}.\\n\")\n",
        "        return 0\n",
        "\n",
        "def calculate_score(score, total_questions):\n",
        "    print(f\"Quiz over! You got {score} out of {total_questions} questions correct.\")\n",
        "    if score == total_questions:\n",
        "        print(\"Wow, you're a quiz champion!\")\n",
        "    elif score >= total_questions / 2:\n",
        "        print(\"Great job! You did really well.\")\n",
        "    else:\n",
        "        print(\"Nice try! Keep practicing and you'll get better.\")\n",
        "\n",
        "def main():\n",
        "    display_welcome_message()\n",
        "\n",
        "    questions = [\n",
        "        {\n",
        "            \"question\": \"What is the color of the sun?\",\n",
        "            \"options\": [\"A) Blue\", \"B) Yellow\", \"C) Green\"],\n",
        "            \"correct_answer\": \"B\"\n",
        "        },\n",
        "        {\n",
        "            \"question\": \"How many legs does a cat have?\",\n",
        "            \"options\": [\"A) 2\", \"B) 4\", \"C) 6\"],\n",
        "            \"correct_answer\": \"B\"\n",
        "        },\n",
        "        {\n",
        "            \"question\": \"What do you use to write on paper?\",\n",
        "            \"options\": [\"A) Spoon\", \"B) Pencil\", \"C) Fork\"],\n",
        "            \"correct_answer\": \"B\"\n",
        "        },\n",
        "        {\n",
        "            \"question\": \"Which animal says 'moo'?\",\n",
        "            \"options\": [\"A) Duck\", \"B) Cow\", \"C) Dog\"],\n",
        "            \"correct_answer\": \"B\"\n",
        "        },\n",
        "        {\n",
        "            \"question\": \"What is 2 + 2?\",\n",
        "            \"options\": [\"A) 3\", \"B) 4\", \"C) 5\"],\n",
        "            \"correct_answer\": \"B\"\n",
        "        }\n",
        "    ]\n",
        "\n",
        "    score = 0\n",
        "    total_questions = len(questions)\n",
        "\n",
        "    for q in questions:\n",
        "        score += ask_question(q[\"question\"], q[\"options\"], q[\"correct_answer\"])\n",
        "\n",
        "    calculate_score(score, total_questions)\n",
        "\n",
        "if __name__ == \"__main__\":\n",
        "    main()"
      ]
    }
  ],
  "metadata": {
    "colab": {
      "provenance": [],
      "authorship_tag": "ABX9TyNbVxh0OBXNoNy85kGUwKPs",
      "include_colab_link": true
    },
    "kernelspec": {
      "display_name": "Python 3",
      "name": "python3"
    },
    "language_info": {
      "name": "python"
    }
  },
  "nbformat": 4,
  "nbformat_minor": 0
}